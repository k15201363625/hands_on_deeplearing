{
 "cells": [
  {
   "cell_type": "markdown",
   "metadata": {},
   "source": [
    "# hands-on implementation of cnn with numpy--------pooling layer"
   ]
  },
  {
   "cell_type": "markdown",
   "metadata": {},
   "source": [
    "## pooling layer meaning\n",
    "- 平移不变形 more robust\n",
    "- dimensionality reduction (more efficient)\n",
    "- 只关注相对位置的时候 可以采用 实现尺度变化(subsampling)\n",
    "\n",
    "> NOTE:pooling layer已经可以通过**stride!=1 conv2d**实现subsampling代替"
   ]
  },
  {
   "cell_type": "code",
   "execution_count": 1,
   "metadata": {},
   "outputs": [
    {
     "name": "stdout",
     "output_type": "stream",
     "text": [
      "1.16.4\n"
     ]
    }
   ],
   "source": [
    "import numpy as np\n",
    "import math\n",
    "import matplotlib.pyplot as plt\n",
    "%matplotlib inline\n",
    "print(np.__version__)"
   ]
  },
  {
   "cell_type": "markdown",
   "metadata": {},
   "source": [
    "实际上pooling layer没有参与前向计算的参数的，\n",
    "所以我们只需要实现 $$\\frac{\\partial { loss}}{\\partial Pooling\\_in} = Pooling.backward(\\frac{\\partial { loss}}{\\partial Pooling\\_out} )$$"
   ]
  },
  {
   "cell_type": "markdown",
   "metadata": {},
   "source": [
    "## MaxPooling layer"
   ]
  },
  {
   "cell_type": "code",
   "execution_count": 22,
   "metadata": {},
   "outputs": [],
   "source": [
    "class MaxPooling(object):\n",
    "    def __init__(self,shape,ksize,stride):\n",
    "        self.input_shape = shape\n",
    "        self.ksize = ksize\n",
    "        self.stride = stride\n",
    "        self.input_channels = shape[0]\n",
    "        self.output_channels = shape[-1]\n",
    "        # 生效位置索引\n",
    "        self.index = np.zeros(shape)\n",
    "        self.output_shape = [shape[0],shape[1]//ksize,shape[2]//ksize,shape[-1]]\n",
    "    \n",
    "    def forward_propagate(self,x):\n",
    "        # calculate and record index\n",
    "        shape = x.shape\n",
    "        out = np.zeros([shape[0],shape[1]//self.stride,\n",
    "                       shape[2]//self.stride,shape[-1]])\n",
    "        self.index = np.zeros(self.input_shape)\n",
    "        for b in range(shape[0]):\n",
    "            for c in range(shape[-1]):\n",
    "                for i in range(0,shape[1],self.stride):\n",
    "                    for j in range(0,shape[2],self.stride):\n",
    "                        if i+self.ksize > self.input_shape[1] or j+self.ksize > self.input_shape[1]:\n",
    "\n",
    "                            continue\n",
    "                        else:\n",
    "                            out[b,i//self.stride,j//self.stride,c] = np.max(\n",
    "                                    x[b,i:i+self.stride,j:j+self.stride,c])\n",
    "                            idx = np.argmax(x[b,i:i+self.stride,j:j+self.stride,c])\n",
    "                            self.index[b,i + idx//self.ksize,j + idx%self.ksize,c] += 1\n",
    "        return out\n",
    "    \n",
    "    def backward_propagate(self,delta):\n",
    "        # 进行扩充 之后与idx进行点乘\n",
    "        repeated_delta = np.repeat(np.repeat(delta,self.stride,axis=1),self.stride,axis=2)\n",
    "        return repeated_delta * self.index\n"
   ]
  },
  {
   "cell_type": "code",
   "execution_count": null,
   "metadata": {},
   "outputs": [],
   "source": [
    "# demo\n",
    "a = [[[1,2],[3,4]],[[10,2],[31,4]]]\n",
    "print(a)\n",
    "print(np.argmax(a))\n",
    "np.repeat([[1,2],[3,4]],repeats=2,axis=1)"
   ]
  },
  {
   "cell_type": "markdown",
   "metadata": {},
   "source": [
    "## AveragePooling layer"
   ]
  },
  {
   "cell_type": "code",
   "execution_count": 23,
   "metadata": {},
   "outputs": [],
   "source": [
    "class AveragePooling(object):\n",
    "    def __init__(self,shape,ksize,stride):\n",
    "        self.input_shape = shape\n",
    "        self.ksize = ksize\n",
    "        self.stride = stride\n",
    "        self.input_channels = shape[0]\n",
    "        self.output_channels = shape[-1]\n",
    "        self.output_shape = [shape[0],shape[1]//ksize,shape[2]//ksize,shape[-1]]\n",
    "    \n",
    "    def forward_propagate(self,x):\n",
    "        # calculate and record index\n",
    "        shape = x.shape\n",
    "        out = np.zeros([shape[0],shape[1]//self.stride,\n",
    "                       shape[2]//self.stride,shape[-1]])\n",
    "        \n",
    "        for b in range(shape[0]):\n",
    "            for c in range(shape[-1]):\n",
    "                for i in range(0,shape[1],self.stride):\n",
    "                    for j in range(0,shape[2],self.stride):\n",
    "                        if i+self.ksize > self.input_shape[1] or j+self.ksize > self.input_shape[1]:\n",
    "                            continue\n",
    "                        else:\n",
    "                            out[b,i//self.stride,j//self.stride,c] = np.mean(\n",
    "                                    x[b,i:i+self.stride,j:j+self.stride,c])\n",
    "\n",
    "        return out\n",
    "    \n",
    "    def backward_propagate(self,delta):\n",
    "        # 进行扩充 之后与idx进行点乘\n",
    "        repeated_delta = np.repeat(np.repeat(delta,self.stride,axis=1),self.stride,axis=2)\n",
    "        return repeated_delta / (self.ksize*self.ksize)\n",
    "    "
   ]
  },
  {
   "cell_type": "code",
   "execution_count": 30,
   "metadata": {},
   "outputs": [
    {
     "name": "stdout",
     "output_type": "stream",
     "text": [
      "(5, 16, 16, 3) (5, 16, 16, 3) (5, 32, 32, 3) (5, 32, 32, 3)\n",
      "(5, 32, 32, 3) (5, 32, 32, 3)\n",
      "1.0 0.9004585265128483 1.8009170530256966\n"
     ]
    }
   ],
   "source": [
    "# test code\n",
    "if __name__ == '__main__':\n",
    "    img = np.random.randn(5,32,32,3)\n",
    "    pool1 = MaxPooling(img.shape,2,2)\n",
    "    pool2 = AveragePooling(img.shape,2,2)\n",
    "    out1 = pool1.forward_propagate(img)\n",
    "    out2 = pool2.forward_propagate(img)\n",
    "    delta1 = pool1.backward_propagate(out1*2)\n",
    "    delta2 = pool2.backward_propagate(out2*2)\n",
    "    print(out1.shape,out2.shape,delta1.shape,delta2.shape)\n",
    "    print(pool1.index.shape,pool2.index.shape)\n",
    "    print(np.max(pool1.index),np.max(delta2),np.max(out2))"
   ]
  },
  {
   "cell_type": "code",
   "execution_count": null,
   "metadata": {},
   "outputs": [],
   "source": []
  }
 ],
 "metadata": {
  "kernelspec": {
   "display_name": "Python 3",
   "language": "python",
   "name": "python3"
  },
  "language_info": {
   "codemirror_mode": {
    "name": "ipython",
    "version": 3
   },
   "file_extension": ".py",
   "mimetype": "text/x-python",
   "name": "python",
   "nbconvert_exporter": "python",
   "pygments_lexer": "ipython3",
   "version": "3.7.3"
  }
 },
 "nbformat": 4,
 "nbformat_minor": 4
}
