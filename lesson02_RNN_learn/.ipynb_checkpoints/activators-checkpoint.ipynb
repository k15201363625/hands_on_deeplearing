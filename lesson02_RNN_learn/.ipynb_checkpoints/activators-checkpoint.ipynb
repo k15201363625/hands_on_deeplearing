{
 "cells": [
  {
   "cell_type": "markdown",
   "metadata": {},
   "source": [
    "# Common Activators\n",
    "- relu\n",
    "- identity \n",
    "- sigmoid\n",
    "- tanh\n",
    "\n",
    "> include their forward and backward propagation\n",
    "\n",
    "> **由于有element-wise-op 辅助 所以这些实现不许需要考虑数组或者向量或者矩阵张量情况 只需要对于最简单的scaler进行运算就可以**"
   ]
  },
  {
   "cell_type": "code",
   "execution_count": 1,
   "metadata": {},
   "outputs": [],
   "source": [
    "import numpy as np"
   ]
  },
  {
   "cell_type": "code",
   "execution_count": 4,
   "metadata": {},
   "outputs": [],
   "source": [
    "class ReluActivator(object):\n",
    "    def forward(self,x):\n",
    "        return max(0,x)\n",
    "    def backward(self,out):\n",
    "#         return 1 if out > 0 else 0\n",
    "        return np.where(out>0,[1,0])"
   ]
  },
  {
   "cell_type": "code",
   "execution_count": 5,
   "metadata": {},
   "outputs": [],
   "source": [
    "class SigmoidActivator(object):\n",
    "    def forward(self,x):\n",
    "        return 1.0 / (1.0+np.exp(-x))\n",
    "    def backward(self,out):\n",
    "        return out * (1-out)"
   ]
  },
  {
   "cell_type": "code",
   "execution_count": 6,
   "metadata": {},
   "outputs": [],
   "source": [
    "class TanhActivator(object):\n",
    "    def forward(self,x):\n",
    "        return 2.0 / (1.0+np.exp(-2*x)) - 1.0\n",
    "    def backward(self,out):\n",
    "        return 1 - np.square(out,out)\n",
    "        # return 1 - out*out"
   ]
  },
  {
   "cell_type": "code",
   "execution_count": 8,
   "metadata": {},
   "outputs": [],
   "source": [
    "class IdentityActivator(object):\n",
    "    \"\"\"\n",
    "    多用于gradient check 中的activation function\n",
    "    \"\"\"\n",
    "    def forward(self,x):\n",
    "        return x\n",
    "    def backward(self,out):\n",
    "        return 1"
   ]
  },
  {
   "cell_type": "code",
   "execution_count": null,
   "metadata": {},
   "outputs": [],
   "source": []
  }
 ],
 "metadata": {
  "kernelspec": {
   "display_name": "Python 3",
   "language": "python",
   "name": "python3"
  },
  "language_info": {
   "codemirror_mode": {
    "name": "ipython",
    "version": 3
   },
   "file_extension": ".py",
   "mimetype": "text/x-python",
   "name": "python",
   "nbconvert_exporter": "python",
   "pygments_lexer": "ipython3",
   "version": "3.7.3"
  }
 },
 "nbformat": 4,
 "nbformat_minor": 4
}
