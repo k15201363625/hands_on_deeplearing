{
 "cells": [
  {
   "cell_type": "markdown",
   "metadata": {},
   "source": [
    "# utils functions\n",
    "- element-wise-op"
   ]
  },
  {
   "cell_type": "code",
   "execution_count": 1,
   "metadata": {},
   "outputs": [],
   "source": [
    "import numpy as np\n",
    "import math"
   ]
  },
  {
   "cell_type": "code",
   "execution_count": 10,
   "metadata": {},
   "outputs": [],
   "source": [
    "def element_wise_op(array,op):\n",
    "    \"\"\"\n",
    "    对于numpy类型data进行element wise 的op函数对应的操作\n",
    "    \"\"\"\n",
    "    for i in np.nditer(array,op_flags=['readwrite']):\n",
    "        i[...] = op(i)"
   ]
  },
  {
   "cell_type": "code",
   "execution_count": 9,
   "metadata": {},
   "outputs": [
    {
     "name": "stdout",
     "output_type": "stream",
     "text": [
      "1\n",
      "2\n",
      "3\n",
      "4\n",
      "5\n",
      "6\n",
      "7\n",
      "8\n",
      "9\n",
      "(2, 3, 3)\n",
      "1\n",
      "2\n",
      "3\n",
      "4\n",
      "5\n",
      "6\n",
      "7\n",
      "8\n",
      "9\n",
      "1\n",
      "2\n",
      "3\n",
      "4\n",
      "5\n",
      "6\n",
      "7\n",
      "8\n",
      "9\n",
      "[[[1 2 3]\n",
      "  [4 5 6]\n",
      "  [7 8 9]]\n",
      "\n",
      " [[1 2 3]\n",
      "  [4 5 6]\n",
      "  [7 8 9]]]\n",
      "1\n",
      "2\n",
      "3\n",
      "4\n",
      "5\n",
      "6\n",
      "7\n",
      "8\n",
      "9\n",
      "1\n",
      "2\n",
      "3\n",
      "4\n",
      "5\n",
      "6\n",
      "7\n",
      "8\n",
      "9\n",
      "[[[5 5 5]\n",
      "  [5 5 5]\n",
      "  [5 5 5]]\n",
      "\n",
      " [[5 5 5]\n",
      "  [5 5 5]\n",
      "  [5 5 5]]]\n"
     ]
    }
   ],
   "source": [
    "# nditer 可以实现对于复杂的numpy array 进行element-wise迭代读取\n",
    "# 并且通过神奇的索引方式 对于单个元素进行修改i[...] = mapfunc(i)\n",
    "a = np.array([[1,2,3],[4,5,6],[7,8,9]])\n",
    "for i in np.nditer(a):\n",
    "    print(i)\n",
    "    # print(i.shape)\n",
    "b = np.array(np.stack([a,a]))\n",
    "print(b.shape)\n",
    "for i in np.nditer(b,op_flags=['readwrite']):\n",
    "    print(i)\n",
    "    i = 5\n",
    "print(b)\n",
    "for i in np.nditer(b,op_flags=['readwrite']):\n",
    "    print(i)\n",
    "    # IndexError: too many indices for array\n",
    "#     i[:] = 5\n",
    "    i[...] = 5\n",
    "print(b)"
   ]
  },
  {
   "cell_type": "code",
   "execution_count": null,
   "metadata": {},
   "outputs": [],
   "source": []
  }
 ],
 "metadata": {
  "kernelspec": {
   "display_name": "Python 3",
   "language": "python",
   "name": "python3"
  },
  "language_info": {
   "codemirror_mode": {
    "name": "ipython",
    "version": 3
   },
   "file_extension": ".py",
   "mimetype": "text/x-python",
   "name": "python",
   "nbconvert_exporter": "python",
   "pygments_lexer": "ipython3",
   "version": "3.7.3"
  }
 },
 "nbformat": 4,
 "nbformat_minor": 4
}
