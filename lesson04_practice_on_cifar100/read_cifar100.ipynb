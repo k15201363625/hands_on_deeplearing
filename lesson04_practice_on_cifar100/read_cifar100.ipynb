{
 "cells": [
  {
   "cell_type": "code",
   "execution_count": 2,
   "metadata": {},
   "outputs": [
    {
     "name": "stdout",
     "output_type": "stream",
     "text": [
      "1.16.4\n"
     ]
    }
   ],
   "source": [
    "import numpy as np\n",
    "import pandas as pd\n",
    "import matplotlib.pyplot as plt\n",
    "import time\n",
    "import os\n",
    "%matplotlib inline\n",
    "print(np.__version__)\n"
   ]
  },
  {
   "cell_type": "code",
   "execution_count": 3,
   "metadata": {},
   "outputs": [
    {
     "name": "stdout",
     "output_type": "stream",
     "text": [
      "['file.txt~', 'meta', 'train', 'test']\n"
     ]
    }
   ],
   "source": [
    "filedir = './datasets/cifar-100-python/'\n",
    "print(os.listdir(filedir))"
   ]
  },
  {
   "cell_type": "code",
   "execution_count": 12,
   "metadata": {},
   "outputs": [],
   "source": [
    "trainfile_path = os.path.join(filedir,'train')\n",
    "testfile_path = os.path.join(filedir,'test')\n",
    "\n",
    "def read_cifar100(filename):\n",
    "    import pickle\n",
    "    with open(filename,'rb') as f:\n",
    "        dataset_dict = pickle.load(f,encoding='bytes') # 官网给出解释\n",
    "    return dataset_dict"
   ]
  },
  {
   "cell_type": "code",
   "execution_count": 13,
   "metadata": {},
   "outputs": [],
   "source": [
    "train_dict = read_cifar100(trainfile_path)\n",
    "test_dict = read_cifar100(testfile_path)"
   ]
  },
  {
   "cell_type": "code",
   "execution_count": 14,
   "metadata": {},
   "outputs": [
    {
     "name": "stdout",
     "output_type": "stream",
     "text": [
      "dict_keys([b'filenames', b'batch_label', b'fine_labels', b'coarse_labels', b'data'])\n",
      "dict_keys([b'filenames', b'batch_label', b'fine_labels', b'coarse_labels', b'data'])\n"
     ]
    }
   ],
   "source": [
    "print(train_dict.keys())\n",
    "print(test_dict.keys())"
   ]
  },
  {
   "cell_type": "code",
   "execution_count": 22,
   "metadata": {},
   "outputs": [
    {
     "name": "stdout",
     "output_type": "stream",
     "text": [
      "(50000, 3072)\n",
      "(10000, 3072)\n",
      "(50000,)\n",
      "(50000,)\n",
      "[ 0  1  2  3  4  5  6  7  8  9 10 11 12 13 14 15 16 17 18 19 20 21 22 23\n",
      " 24 25 26 27 28 29 30 31 32 33 34 35 36 37 38 39 40 41 42 43 44 45 46 47\n",
      " 48 49 50 51 52 53 54 55 56 57 58 59 60 61 62 63 64 65 66 67 68 69 70 71\n",
      " 72 73 74 75 76 77 78 79 80 81 82 83 84 85 86 87 88 89 90 91 92 93 94 95\n",
      " 96 97 98 99]\n",
      "[ 0  1  2  3  4  5  6  7  8  9 10 11 12 13 14 15 16 17 18 19]\n",
      "99 0\n",
      "19 0\n",
      "b'training batch 1 of 1'\n",
      "50000\n"
     ]
    }
   ],
   "source": [
    "train_data = train_dict[b'data']\n",
    "test_data = test_dict[b'data']\n",
    "print(train_data.shape)\n",
    "print(test_data.shape)\n",
    "fine_labels = np.array(train_dict[b'fine_labels'])\n",
    "print(fine_labels.shape)\n",
    "coarse_labels = np.array(train_dict[b'coarse_labels'])\n",
    "print(coarse_labels.shape)\n",
    "print(np.unique(fine_labels))\n",
    "print(np.unique(coarse_labels))\n",
    "print(np.max(fine_labels),np.min(fine_labels))\n",
    "print(np.max(coarse_labels),np.min(coarse_labels))\n",
    "print(train_dict[b'batch_label'])\n",
    "print(len(train_dict[b'filenames']))"
   ]
  },
  {
   "cell_type": "code",
   "execution_count": null,
   "metadata": {},
   "outputs": [],
   "source": []
  }
 ],
 "metadata": {
  "kernelspec": {
   "display_name": "Python 3",
   "language": "python",
   "name": "python3"
  },
  "language_info": {
   "codemirror_mode": {
    "name": "ipython",
    "version": 3
   },
   "file_extension": ".py",
   "mimetype": "text/x-python",
   "name": "python",
   "nbconvert_exporter": "python",
   "pygments_lexer": "ipython3",
   "version": "3.7.3"
  }
 },
 "nbformat": 4,
 "nbformat_minor": 4
}
